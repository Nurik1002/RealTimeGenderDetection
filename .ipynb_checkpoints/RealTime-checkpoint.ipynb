{
 "cells": [
  {
   "cell_type": "code",
   "execution_count": 13,
   "id": "c39fb717-c5b1-419b-bfa8-e174c61d0763",
   "metadata": {
    "tags": []
   },
   "outputs": [],
   "source": [
    "import tensorflow as tf\n",
    "import numpy as np\n",
    "import cvlib\n",
    "import cv2"
   ]
  },
  {
   "cell_type": "code",
   "execution_count": 1,
   "id": "66d670d4-fa86-4f27-914f-53062cca453e",
   "metadata": {
    "tags": []
   },
   "outputs": [],
   "source": [
    "def real_time(path = 0):\n",
    "    \"\"\"path = 'video_path.mp4'\n",
    "       path = 0 open camera\"\"\"\n",
    "    model = tf.keras.models.load_model(\"model.h5\")\n",
    "    label = ['female', 'male']\n",
    "    video = cv2.VideoCapture(path)\n",
    "    while True:\n",
    "        red, fram = video.read()\n",
    "        print(red)\n",
    "\n",
    "\n",
    "        faces = cvlib.detect_face(fram)\n",
    "        #print(faces)\n",
    "\n",
    "        for x1,y1,x2,y2 in faces[0]:\n",
    "\n",
    "            face = fram[y1-10:y2+10, x1-10:x2+10] \n",
    "            face = cv2.cvtColor(face, cv2.COLOR_BGR2RGB)        \n",
    "            face = cv2.resize(face, (224,224))\n",
    "            face = np.expand_dims(face, 0)   \n",
    "\n",
    "            pred, value = np.argmax(model.predict(face)), model.predict(face)\n",
    "    \n",
    "            if pred == 0:\n",
    "                cv2.rectangle(fram, (x1,y1), (x2,y2), (0,0,255),2)\n",
    "                cv2.putText(fram,  f\"{label[pred].upper()} : {value[0][0]}\", (x1,y1), cv2.FONT_HERSHEY_SIMPLEX, 1, (0,0,255),2)\n",
    "\n",
    "            else:\n",
    "                cv2.rectangle(fram, (x1,y1), (x2,y2), (255,0,0),2)\n",
    "                cv2.putText(fram, f\"{label[pred].upper()} : {value[0][1]}\" , (x1,y1), cv2.FONT_HERSHEY_SIMPLEX, 1, (255,0,0),2)\n",
    "\n",
    "        cv2.imshow(\"Video frame\", fram)\n",
    "\n",
    "\n",
    "        if cv2.waitKey(1) & 0xFF == ord('q'):\n",
    "            break\n",
    "\n",
    "    video.release()\n",
    "    cv2.destroyAllWindows()\n",
    "\n"
   ]
  },
  {
   "cell_type": "code",
   "execution_count": null,
   "id": "7a5a9adb-75c9-4e8f-915f-e539488b5b7e",
   "metadata": {
    "tags": []
   },
   "outputs": [],
   "source": [
    "real_time()"
   ]
  }
 ],
 "metadata": {
  "kernelspec": {
   "display_name": "gc_env",
   "language": "python",
   "name": "gc_env"
  },
  "language_info": {
   "codemirror_mode": {
    "name": "ipython",
    "version": 3
   },
   "file_extension": ".py",
   "mimetype": "text/x-python",
   "name": "python",
   "nbconvert_exporter": "python",
   "pygments_lexer": "ipython3",
   "version": "3.11.2"
  }
 },
 "nbformat": 4,
 "nbformat_minor": 5
}
